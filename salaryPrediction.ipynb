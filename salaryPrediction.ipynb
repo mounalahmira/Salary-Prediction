{
 "cells": [
  {
   "cell_type": "code",
   "execution_count": null,
   "id": "initial_id",
   "metadata": {
    "collapsed": true
   },
   "outputs": [],
   "source": [
    "import pandas as pd\n",
    "import numpy as np\n",
    "import matplotlib.pyplot as plt\n",
    "import streamlit as st"
   ]
  },
  {
   "cell_type": "code",
   "outputs": [],
   "source": [
    "df = pd.read_csv('dataset/survey_results_public.csv')\n",
    "df.head()"
   ],
   "metadata": {
    "collapsed": false
   },
   "id": "9beecf30dad9eacc",
   "execution_count": null
  },
  {
   "cell_type": "code",
   "outputs": [],
   "source": [
    "df = df [[\"Country\",\"EdLevel\",\"YearsCodePro\",\"Employment\",\"ConvertedComp\"]]\n",
    "df = df.rename({'ConvertedComp':'Salary'}, axis=1)\n",
    "df.head()"
   ],
   "metadata": {
    "collapsed": false
   },
   "id": "3c9deb6c0ecae7a1",
   "execution_count": null
  },
  {
   "cell_type": "code",
   "outputs": [
    {
     "data": {
      "text/plain": "           Country                                            EdLevel  \\\n7    United States       Bachelor’s degree (B.A., B.S., B.Eng., etc.)   \n9   United Kingdom    Master’s degree (M.A., M.S., M.Eng., MBA, etc.)   \n10  United Kingdom       Bachelor’s degree (B.A., B.S., B.Eng., etc.)   \n11           Spain  Some college/university study without earning ...   \n12     Netherlands  Secondary school (e.g. American high school, G...   \n13   United States                Associate degree (A.A., A.S., etc.)   \n15  United Kingdom       Bachelor’s degree (B.A., B.S., B.Eng., etc.)   \n16   United States       Bachelor’s degree (B.A., B.S., B.Eng., etc.)   \n17   United States       Bachelor’s degree (B.A., B.S., B.Eng., etc.)   \n18   United States       Bachelor’s degree (B.A., B.S., B.Eng., etc.)   \n23         Germany                 Professional degree (JD, MD, etc.)   \n25          Canada       Bachelor’s degree (B.A., B.S., B.Eng., etc.)   \n29  United Kingdom       Bachelor’s degree (B.A., B.S., B.Eng., etc.)   \n31          Canada       Bachelor’s degree (B.A., B.S., B.Eng., etc.)   \n32         Belgium       Bachelor’s degree (B.A., B.S., B.Eng., etc.)   \n35  United Kingdom  Some college/university study without earning ...   \n37           Italy       Bachelor’s degree (B.A., B.S., B.Eng., etc.)   \n40   United States    Master’s degree (M.A., M.S., M.Eng., MBA, etc.)   \n41   United States       Bachelor’s degree (B.A., B.S., B.Eng., etc.)   \n42   United States    Master’s degree (M.A., M.S., M.Eng., MBA, etc.)   \n\n   YearsCodePro                                         Employment     Salary  \n7            13                                 Employed full-time   116000.0  \n9             4                                 Employed full-time    32315.0  \n10            2                                 Employed full-time    40070.0  \n11            7                                 Employed full-time    14268.0  \n12           20                                 Employed full-time    38916.0  \n13            1                                 Employed full-time    66000.0  \n15           23  Independent contractor, freelancer, or self-em...   108576.0  \n16            3                                 Employed full-time    79000.0  \n17           12                                 Employed full-time  1260000.0  \n18            3                                 Employed full-time    83400.0  \n23           20                                 Employed full-time    91883.0  \n25           10                                 Employed full-time    71093.0  \n29            2                                 Employed full-time    38778.0  \n31           10                                 Employed full-time    31764.0  \n32           14                                 Employed full-time    63564.0  \n35            3                                 Employed full-time    77556.0  \n37           12                                 Employed full-time    97288.0  \n40           20                                 Employed full-time   106000.0  \n41           10                                 Employed full-time   130000.0  \n42           29                                 Employed full-time   135000.0  ",
      "text/html": "<div>\n<style scoped>\n    .dataframe tbody tr th:only-of-type {\n        vertical-align: middle;\n    }\n\n    .dataframe tbody tr th {\n        vertical-align: top;\n    }\n\n    .dataframe thead th {\n        text-align: right;\n    }\n</style>\n<table border=\"1\" class=\"dataframe\">\n  <thead>\n    <tr style=\"text-align: right;\">\n      <th></th>\n      <th>Country</th>\n      <th>EdLevel</th>\n      <th>YearsCodePro</th>\n      <th>Employment</th>\n      <th>Salary</th>\n    </tr>\n  </thead>\n  <tbody>\n    <tr>\n      <th>7</th>\n      <td>United States</td>\n      <td>Bachelor’s degree (B.A., B.S., B.Eng., etc.)</td>\n      <td>13</td>\n      <td>Employed full-time</td>\n      <td>116000.0</td>\n    </tr>\n    <tr>\n      <th>9</th>\n      <td>United Kingdom</td>\n      <td>Master’s degree (M.A., M.S., M.Eng., MBA, etc.)</td>\n      <td>4</td>\n      <td>Employed full-time</td>\n      <td>32315.0</td>\n    </tr>\n    <tr>\n      <th>10</th>\n      <td>United Kingdom</td>\n      <td>Bachelor’s degree (B.A., B.S., B.Eng., etc.)</td>\n      <td>2</td>\n      <td>Employed full-time</td>\n      <td>40070.0</td>\n    </tr>\n    <tr>\n      <th>11</th>\n      <td>Spain</td>\n      <td>Some college/university study without earning ...</td>\n      <td>7</td>\n      <td>Employed full-time</td>\n      <td>14268.0</td>\n    </tr>\n    <tr>\n      <th>12</th>\n      <td>Netherlands</td>\n      <td>Secondary school (e.g. American high school, G...</td>\n      <td>20</td>\n      <td>Employed full-time</td>\n      <td>38916.0</td>\n    </tr>\n    <tr>\n      <th>13</th>\n      <td>United States</td>\n      <td>Associate degree (A.A., A.S., etc.)</td>\n      <td>1</td>\n      <td>Employed full-time</td>\n      <td>66000.0</td>\n    </tr>\n    <tr>\n      <th>15</th>\n      <td>United Kingdom</td>\n      <td>Bachelor’s degree (B.A., B.S., B.Eng., etc.)</td>\n      <td>23</td>\n      <td>Independent contractor, freelancer, or self-em...</td>\n      <td>108576.0</td>\n    </tr>\n    <tr>\n      <th>16</th>\n      <td>United States</td>\n      <td>Bachelor’s degree (B.A., B.S., B.Eng., etc.)</td>\n      <td>3</td>\n      <td>Employed full-time</td>\n      <td>79000.0</td>\n    </tr>\n    <tr>\n      <th>17</th>\n      <td>United States</td>\n      <td>Bachelor’s degree (B.A., B.S., B.Eng., etc.)</td>\n      <td>12</td>\n      <td>Employed full-time</td>\n      <td>1260000.0</td>\n    </tr>\n    <tr>\n      <th>18</th>\n      <td>United States</td>\n      <td>Bachelor’s degree (B.A., B.S., B.Eng., etc.)</td>\n      <td>3</td>\n      <td>Employed full-time</td>\n      <td>83400.0</td>\n    </tr>\n    <tr>\n      <th>23</th>\n      <td>Germany</td>\n      <td>Professional degree (JD, MD, etc.)</td>\n      <td>20</td>\n      <td>Employed full-time</td>\n      <td>91883.0</td>\n    </tr>\n    <tr>\n      <th>25</th>\n      <td>Canada</td>\n      <td>Bachelor’s degree (B.A., B.S., B.Eng., etc.)</td>\n      <td>10</td>\n      <td>Employed full-time</td>\n      <td>71093.0</td>\n    </tr>\n    <tr>\n      <th>29</th>\n      <td>United Kingdom</td>\n      <td>Bachelor’s degree (B.A., B.S., B.Eng., etc.)</td>\n      <td>2</td>\n      <td>Employed full-time</td>\n      <td>38778.0</td>\n    </tr>\n    <tr>\n      <th>31</th>\n      <td>Canada</td>\n      <td>Bachelor’s degree (B.A., B.S., B.Eng., etc.)</td>\n      <td>10</td>\n      <td>Employed full-time</td>\n      <td>31764.0</td>\n    </tr>\n    <tr>\n      <th>32</th>\n      <td>Belgium</td>\n      <td>Bachelor’s degree (B.A., B.S., B.Eng., etc.)</td>\n      <td>14</td>\n      <td>Employed full-time</td>\n      <td>63564.0</td>\n    </tr>\n    <tr>\n      <th>35</th>\n      <td>United Kingdom</td>\n      <td>Some college/university study without earning ...</td>\n      <td>3</td>\n      <td>Employed full-time</td>\n      <td>77556.0</td>\n    </tr>\n    <tr>\n      <th>37</th>\n      <td>Italy</td>\n      <td>Bachelor’s degree (B.A., B.S., B.Eng., etc.)</td>\n      <td>12</td>\n      <td>Employed full-time</td>\n      <td>97288.0</td>\n    </tr>\n    <tr>\n      <th>40</th>\n      <td>United States</td>\n      <td>Master’s degree (M.A., M.S., M.Eng., MBA, etc.)</td>\n      <td>20</td>\n      <td>Employed full-time</td>\n      <td>106000.0</td>\n    </tr>\n    <tr>\n      <th>41</th>\n      <td>United States</td>\n      <td>Bachelor’s degree (B.A., B.S., B.Eng., etc.)</td>\n      <td>10</td>\n      <td>Employed full-time</td>\n      <td>130000.0</td>\n    </tr>\n    <tr>\n      <th>42</th>\n      <td>United States</td>\n      <td>Master’s degree (M.A., M.S., M.Eng., MBA, etc.)</td>\n      <td>29</td>\n      <td>Employed full-time</td>\n      <td>135000.0</td>\n    </tr>\n  </tbody>\n</table>\n</div>"
     },
     "execution_count": 19,
     "metadata": {},
     "output_type": "execute_result"
    }
   ],
   "source": [
    "df = df[df[\"Salary\"].notnull()]\n",
    "df.head(20)"
   ],
   "metadata": {
    "collapsed": false,
    "ExecuteTime": {
     "end_time": "2024-11-09T17:19:15.930176Z",
     "start_time": "2024-11-09T17:19:15.901482Z"
    }
   },
   "id": "2219fb4c53e3e221",
   "execution_count": 19
  },
  {
   "cell_type": "code",
   "outputs": [],
   "source": [
    "df.info()"
   ],
   "metadata": {
    "collapsed": false
   },
   "id": "2a7762b75ae3deef",
   "execution_count": null
  },
  {
   "cell_type": "code",
   "outputs": [],
   "source": [
    "df = df.dropna()\n",
    "df.isnull().sum()"
   ],
   "metadata": {
    "collapsed": false
   },
   "id": "a1c4d9b38888ad03",
   "execution_count": null
  },
  {
   "cell_type": "code",
   "outputs": [
    {
     "name": "stdout",
     "output_type": "stream",
     "text": [
      "<class 'pandas.core.frame.DataFrame'>\n",
      "Index: 30019 entries, 7 to 64154\n",
      "Data columns (total 4 columns):\n",
      " #   Column        Non-Null Count  Dtype  \n",
      "---  ------        --------------  -----  \n",
      " 0   Country       30019 non-null  object \n",
      " 1   EdLevel       30019 non-null  object \n",
      " 2   YearsCodePro  30019 non-null  object \n",
      " 3   Salary        30019 non-null  float64\n",
      "dtypes: float64(1), object(3)\n",
      "memory usage: 1.1+ MB\n"
     ]
    }
   ],
   "source": [
    "df = df[df[\"Employment\"]==\"Employed full-time\"]\n",
    "df = df.drop(\"Employment\",axis=1)\n",
    "df.info()"
   ],
   "metadata": {
    "collapsed": false,
    "ExecuteTime": {
     "end_time": "2024-11-09T17:20:52.702561Z",
     "start_time": "2024-11-09T17:20:52.665202Z"
    }
   },
   "id": "a41564cadced3d59",
   "execution_count": 21
  },
  {
   "cell_type": "code",
   "outputs": [],
   "source": [],
   "metadata": {
    "collapsed": false
   },
   "id": "24b184b1c9bdd664"
  }
 ],
 "metadata": {
  "kernelspec": {
   "display_name": "Python 3",
   "language": "python",
   "name": "python3"
  },
  "language_info": {
   "codemirror_mode": {
    "name": "ipython",
    "version": 2
   },
   "file_extension": ".py",
   "mimetype": "text/x-python",
   "name": "python",
   "nbconvert_exporter": "python",
   "pygments_lexer": "ipython2",
   "version": "2.7.6"
  }
 },
 "nbformat": 4,
 "nbformat_minor": 5
}
